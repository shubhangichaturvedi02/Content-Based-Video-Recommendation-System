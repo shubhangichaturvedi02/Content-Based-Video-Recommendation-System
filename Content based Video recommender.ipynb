{
 "cells": [
  {
   "cell_type": "markdown",
   "metadata": {},
   "source": [
    "# <center>Content based Video Recommendation System"
   ]
  },
  {
   "cell_type": "markdown",
   "metadata": {},
   "source": [
    "We are going to build an engine that computes similarity between Videos based on certain metrics and suggests videos that are most similar to a particular video that a user liked. Since we will be using video metadata (or content) to build this engine, this also known as Content Based Filtering.\n",
    "\n",
    "Here,we are going to build content based recommender based on the 'Genre' of the video."
   ]
  },
  {
   "cell_type": "code",
   "execution_count": 1,
   "metadata": {},
   "outputs": [],
   "source": [
    "#Importing required modules\n",
    "import pandas as pd\n",
    "import numpy as np\n",
    "from sklearn.feature_extraction.text import TfidfVectorizer, CountVectorizer\n",
    "from sklearn.metrics.pairwise import linear_kernel, cosine_similarity"
   ]
  },
  {
   "cell_type": "markdown",
   "metadata": {},
   "source": [
    "We have collected some information related to few videos and have stored the same in an excel sheet."
   ]
  },
  {
   "cell_type": "code",
   "execution_count": 84,
   "metadata": {},
   "outputs": [],
   "source": [
    "#Importing video data\n",
    "video=pd.read_excel(r'C:\\Users\\Shubhangi\\Desktop\\programming\\machine_learning\\data analysis\\Datasets\\video_topicc.xlsx')"
   ]
  },
  {
   "cell_type": "code",
   "execution_count": 85,
   "metadata": {},
   "outputs": [
    {
     "data": {
      "text/html": [
       "<div>\n",
       "<style scoped>\n",
       "    .dataframe tbody tr th:only-of-type {\n",
       "        vertical-align: middle;\n",
       "    }\n",
       "\n",
       "    .dataframe tbody tr th {\n",
       "        vertical-align: top;\n",
       "    }\n",
       "\n",
       "    .dataframe thead th {\n",
       "        text-align: right;\n",
       "    }\n",
       "</style>\n",
       "<table border=\"1\" class=\"dataframe\">\n",
       "  <thead>\n",
       "    <tr style=\"text-align: right;\">\n",
       "      <th></th>\n",
       "      <th>Video Name</th>\n",
       "      <th>Video Topic</th>\n",
       "      <th>Youtube Link</th>\n",
       "      <th>Rating</th>\n",
       "    </tr>\n",
       "  </thead>\n",
       "  <tbody>\n",
       "    <tr>\n",
       "      <th>0</th>\n",
       "      <td>Python</td>\n",
       "      <td>Python introduction</td>\n",
       "      <td>https://www.youtube.com/watch?v=CtbckFw0pJs&amp;l...</td>\n",
       "      <td>4</td>\n",
       "    </tr>\n",
       "    <tr>\n",
       "      <th>1</th>\n",
       "      <td>Python</td>\n",
       "      <td>numpy full tutorial in Python</td>\n",
       "      <td>https://www.youtube.com/watch?v=Rbh1rieb3zc</td>\n",
       "      <td>7</td>\n",
       "    </tr>\n",
       "    <tr>\n",
       "      <th>2</th>\n",
       "      <td>Python</td>\n",
       "      <td>pandas full tutorial in Python</td>\n",
       "      <td>https://www.youtube.com/watch?v=RhEjmHeDNoA</td>\n",
       "      <td>10</td>\n",
       "    </tr>\n",
       "    <tr>\n",
       "      <th>3</th>\n",
       "      <td>API</td>\n",
       "      <td>what is API</td>\n",
       "      <td>https://www.youtube.com/watch?v=E0Qqpn8ymko</td>\n",
       "      <td>9</td>\n",
       "    </tr>\n",
       "    <tr>\n",
       "      <th>4</th>\n",
       "      <td>Python</td>\n",
       "      <td>OOPS Tutorial in Python</td>\n",
       "      <td>https://www.youtube.com/watch?v=ZDa-Z5JzLYM</td>\n",
       "      <td>5</td>\n",
       "    </tr>\n",
       "    <tr>\n",
       "      <th>5</th>\n",
       "      <td>Python</td>\n",
       "      <td>String Slicing and other function in Python</td>\n",
       "      <td>https://www.youtube.com/watch?v=lPZn7zcGXQo</td>\n",
       "      <td>8</td>\n",
       "    </tr>\n",
       "    <tr>\n",
       "      <th>6</th>\n",
       "      <td>Python</td>\n",
       "      <td>List functions tutorial in Python</td>\n",
       "      <td>https://www.youtube.com/watch?v=neTsPE9XFsQ</td>\n",
       "      <td>8</td>\n",
       "    </tr>\n",
       "    <tr>\n",
       "      <th>7</th>\n",
       "      <td>Python</td>\n",
       "      <td>Tuple in Python</td>\n",
       "      <td>https://www.youtube.com/watch?v=aVHNlC-cAjw</td>\n",
       "      <td>2</td>\n",
       "    </tr>\n",
       "    <tr>\n",
       "      <th>8</th>\n",
       "      <td>Python</td>\n",
       "      <td>Sets in python</td>\n",
       "      <td>https://www.youtube.com/watch?v=iVJv3zdgkD4</td>\n",
       "      <td>1</td>\n",
       "    </tr>\n",
       "    <tr>\n",
       "      <th>9</th>\n",
       "      <td>Python</td>\n",
       "      <td>If Else &amp; Elif in python</td>\n",
       "      <td>https://www.youtube.com/watch?v=3VejIihDfwU</td>\n",
       "      <td>1</td>\n",
       "    </tr>\n",
       "    <tr>\n",
       "      <th>10</th>\n",
       "      <td>Machine Learning</td>\n",
       "      <td>what is machine learning</td>\n",
       "      <td>https://www.youtube.com/watch?v=gmvvaobm7eQ&amp;li...</td>\n",
       "      <td>8</td>\n",
       "    </tr>\n",
       "    <tr>\n",
       "      <th>11</th>\n",
       "      <td>Machine Learning</td>\n",
       "      <td>linear regression single variable ML</td>\n",
       "      <td>https://www.youtube.com/watch?v=8jazNUpO3lQ&amp;li...</td>\n",
       "      <td>7</td>\n",
       "    </tr>\n",
       "    <tr>\n",
       "      <th>12</th>\n",
       "      <td>Machine Learning</td>\n",
       "      <td>linear regression multiple variable ML</td>\n",
       "      <td>https://www.youtube.com/watch?v=J_LnPL3Qg70&amp;li...</td>\n",
       "      <td>4</td>\n",
       "    </tr>\n",
       "    <tr>\n",
       "      <th>13</th>\n",
       "      <td>Machine Learning</td>\n",
       "      <td>Logistic Regression ML</td>\n",
       "      <td>https://www.youtube.com/watch?v=zM4VZR0px8E&amp;li...</td>\n",
       "      <td>6</td>\n",
       "    </tr>\n",
       "    <tr>\n",
       "      <th>14</th>\n",
       "      <td>Machine Learning</td>\n",
       "      <td>Support Vector Machine ML</td>\n",
       "      <td>https://www.youtube.com/watch?v=FB5EdxAGxQg&amp;li...</td>\n",
       "      <td>3</td>\n",
       "    </tr>\n",
       "    <tr>\n",
       "      <th>15</th>\n",
       "      <td>Machine Learning</td>\n",
       "      <td>K Fold cross validation in ML</td>\n",
       "      <td>https://www.youtube.com/watch?v=gJo0uNL-5Qw&amp;li...</td>\n",
       "      <td>6</td>\n",
       "    </tr>\n",
       "    <tr>\n",
       "      <th>16</th>\n",
       "      <td>Machine Learning</td>\n",
       "      <td>K means clustering ML</td>\n",
       "      <td>https://www.youtube.com/watch?v=EItlUEPCIzM&amp;li...</td>\n",
       "      <td>10</td>\n",
       "    </tr>\n",
       "    <tr>\n",
       "      <th>17</th>\n",
       "      <td>Machine Learning</td>\n",
       "      <td>Naïve Bayes part 1 ML</td>\n",
       "      <td>https://www.youtube.com/watch?v=PPeaRc-r1OI&amp;li...</td>\n",
       "      <td>10</td>\n",
       "    </tr>\n",
       "    <tr>\n",
       "      <th>18</th>\n",
       "      <td>Machine Learning</td>\n",
       "      <td>Naïve Bayes part 2 ML</td>\n",
       "      <td>https://www.youtube.com/watch?v=PPeaRc-r1OI&amp;li...</td>\n",
       "      <td>10</td>\n",
       "    </tr>\n",
       "    <tr>\n",
       "      <th>19</th>\n",
       "      <td>Machine Learning</td>\n",
       "      <td>Training and testing in  ML</td>\n",
       "      <td>https://www.youtube.com/watch?v=fwY9Qv96DJY&amp;li...</td>\n",
       "      <td>8</td>\n",
       "    </tr>\n",
       "    <tr>\n",
       "      <th>20</th>\n",
       "      <td>Machine Learning</td>\n",
       "      <td>Simple Explanation of Convolutional nural Netw...</td>\n",
       "      <td>https://www.youtube.com/watch?v=zfiSAzpy9NM</td>\n",
       "      <td>5</td>\n",
       "    </tr>\n",
       "    <tr>\n",
       "      <th>21</th>\n",
       "      <td>Machine Learning</td>\n",
       "      <td>What are features and labels in ML</td>\n",
       "      <td>https://www.youtube.com/watch?v=6pUkiLnpYC4&amp;li...</td>\n",
       "      <td>5</td>\n",
       "    </tr>\n",
       "    <tr>\n",
       "      <th>22</th>\n",
       "      <td>Machine Learning</td>\n",
       "      <td>How does linear regression work ML</td>\n",
       "      <td>https://www.youtube.com/watch?v=vKdgg8O2me8&amp;li...</td>\n",
       "      <td>5</td>\n",
       "    </tr>\n",
       "    <tr>\n",
       "      <th>23</th>\n",
       "      <td>Machine Learning</td>\n",
       "      <td>Supervised learning classification ML</td>\n",
       "      <td>https://www.youtube.com/watch?v=U3SfXcPqeTo&amp;li...</td>\n",
       "      <td>6</td>\n",
       "    </tr>\n",
       "    <tr>\n",
       "      <th>24</th>\n",
       "      <td>Machine Learning</td>\n",
       "      <td>K Nearest neighbor Classification in python ML</td>\n",
       "      <td>https://www.youtube.com/watch?v=lCUMtthAr38&amp;li...</td>\n",
       "      <td>4</td>\n",
       "    </tr>\n",
       "    <tr>\n",
       "      <th>25</th>\n",
       "      <td>Machine Learning</td>\n",
       "      <td>Overfitting And UnderFitting in models Explain...</td>\n",
       "      <td>https://www.youtube.com/watch?v=nkakQ4_ouKE&amp;li...</td>\n",
       "      <td>8</td>\n",
       "    </tr>\n",
       "    <tr>\n",
       "      <th>26</th>\n",
       "      <td>Hindi Song</td>\n",
       "      <td>kal ho naa ho</td>\n",
       "      <td>https://www.youtube.com/watch?v=g0eO74UmRBs</td>\n",
       "      <td>10</td>\n",
       "    </tr>\n",
       "    <tr>\n",
       "      <th>27</th>\n",
       "      <td>Hindi Song</td>\n",
       "      <td>Hawayein</td>\n",
       "      <td>https://www.youtube.com/watch?v=cYOB941gyXI</td>\n",
       "      <td>10</td>\n",
       "    </tr>\n",
       "    <tr>\n",
       "      <th>28</th>\n",
       "      <td>Hindi Song</td>\n",
       "      <td>Dil diyan Gallan</td>\n",
       "      <td>https://www.youtube.com/watch?v=JtnPpxe8K7c</td>\n",
       "      <td>10</td>\n",
       "    </tr>\n",
       "    <tr>\n",
       "      <th>29</th>\n",
       "      <td>Hindi Song</td>\n",
       "      <td>Tera sang yarra</td>\n",
       "      <td>https://www.youtube.com/watch?v=gIOea2pgfIo</td>\n",
       "      <td>2</td>\n",
       "    </tr>\n",
       "    <tr>\n",
       "      <th>30</th>\n",
       "      <td>Hindi Song</td>\n",
       "      <td>O saathi</td>\n",
       "      <td>https://www.youtube.com/watch?v=OX-h7MtkeOI</td>\n",
       "      <td>5</td>\n",
       "    </tr>\n",
       "    <tr>\n",
       "      <th>31</th>\n",
       "      <td>Odia song</td>\n",
       "      <td>Sunjara</td>\n",
       "      <td>https://www.youtube.com/watch?v=hO4ddkq2Z5U</td>\n",
       "      <td>10</td>\n",
       "    </tr>\n",
       "    <tr>\n",
       "      <th>32</th>\n",
       "      <td>Odia song</td>\n",
       "      <td>Rabba Rabba</td>\n",
       "      <td>https://www.youtube.com/watch?v=ZRSjmoWgOnA</td>\n",
       "      <td>10</td>\n",
       "    </tr>\n",
       "  </tbody>\n",
       "</table>\n",
       "</div>"
      ],
      "text/plain": [
       "          Video Name                                        Video Topic  \\\n",
       "0             Python                                Python introduction   \n",
       "1             Python                      numpy full tutorial in Python   \n",
       "2             Python                     pandas full tutorial in Python   \n",
       "3                API                                        what is API   \n",
       "4             Python                            OOPS Tutorial in Python   \n",
       "5             Python        String Slicing and other function in Python   \n",
       "6             Python                  List functions tutorial in Python   \n",
       "7             Python                                    Tuple in Python   \n",
       "8             Python                                     Sets in python   \n",
       "9             Python                           If Else & Elif in python   \n",
       "10  Machine Learning                           what is machine learning   \n",
       "11  Machine Learning               linear regression single variable ML   \n",
       "12  Machine Learning             linear regression multiple variable ML   \n",
       "13  Machine Learning                             Logistic Regression ML   \n",
       "14  Machine Learning                          Support Vector Machine ML   \n",
       "15  Machine Learning                      K Fold cross validation in ML   \n",
       "16  Machine Learning                              K means clustering ML   \n",
       "17  Machine Learning                              Naïve Bayes part 1 ML   \n",
       "18  Machine Learning                              Naïve Bayes part 2 ML   \n",
       "19  Machine Learning                        Training and testing in  ML   \n",
       "20  Machine Learning  Simple Explanation of Convolutional nural Netw...   \n",
       "21  Machine Learning                 What are features and labels in ML   \n",
       "22  Machine Learning                 How does linear regression work ML   \n",
       "23  Machine Learning              Supervised learning classification ML   \n",
       "24  Machine Learning     K Nearest neighbor Classification in python ML   \n",
       "25  Machine Learning  Overfitting And UnderFitting in models Explain...   \n",
       "26        Hindi Song                                      kal ho naa ho   \n",
       "27        Hindi Song                                           Hawayein   \n",
       "28        Hindi Song                                   Dil diyan Gallan   \n",
       "29        Hindi Song                                    Tera sang yarra   \n",
       "30        Hindi Song                                           O saathi   \n",
       "31         Odia song                                            Sunjara   \n",
       "32         Odia song                                        Rabba Rabba   \n",
       "\n",
       "                                         Youtube Link  Rating  \n",
       "0    https://www.youtube.com/watch?v=CtbckFw0pJs&l...       4  \n",
       "1         https://www.youtube.com/watch?v=Rbh1rieb3zc       7  \n",
       "2         https://www.youtube.com/watch?v=RhEjmHeDNoA      10  \n",
       "3         https://www.youtube.com/watch?v=E0Qqpn8ymko       9  \n",
       "4         https://www.youtube.com/watch?v=ZDa-Z5JzLYM       5  \n",
       "5         https://www.youtube.com/watch?v=lPZn7zcGXQo       8  \n",
       "6         https://www.youtube.com/watch?v=neTsPE9XFsQ       8  \n",
       "7         https://www.youtube.com/watch?v=aVHNlC-cAjw       2  \n",
       "8         https://www.youtube.com/watch?v=iVJv3zdgkD4       1  \n",
       "9         https://www.youtube.com/watch?v=3VejIihDfwU       1  \n",
       "10  https://www.youtube.com/watch?v=gmvvaobm7eQ&li...       8  \n",
       "11  https://www.youtube.com/watch?v=8jazNUpO3lQ&li...       7  \n",
       "12  https://www.youtube.com/watch?v=J_LnPL3Qg70&li...       4  \n",
       "13  https://www.youtube.com/watch?v=zM4VZR0px8E&li...       6  \n",
       "14  https://www.youtube.com/watch?v=FB5EdxAGxQg&li...       3  \n",
       "15  https://www.youtube.com/watch?v=gJo0uNL-5Qw&li...       6  \n",
       "16  https://www.youtube.com/watch?v=EItlUEPCIzM&li...      10  \n",
       "17  https://www.youtube.com/watch?v=PPeaRc-r1OI&li...      10  \n",
       "18  https://www.youtube.com/watch?v=PPeaRc-r1OI&li...      10  \n",
       "19  https://www.youtube.com/watch?v=fwY9Qv96DJY&li...       8  \n",
       "20        https://www.youtube.com/watch?v=zfiSAzpy9NM       5  \n",
       "21  https://www.youtube.com/watch?v=6pUkiLnpYC4&li...       5  \n",
       "22  https://www.youtube.com/watch?v=vKdgg8O2me8&li...       5  \n",
       "23  https://www.youtube.com/watch?v=U3SfXcPqeTo&li...       6  \n",
       "24  https://www.youtube.com/watch?v=lCUMtthAr38&li...       4  \n",
       "25  https://www.youtube.com/watch?v=nkakQ4_ouKE&li...       8  \n",
       "26        https://www.youtube.com/watch?v=g0eO74UmRBs      10  \n",
       "27        https://www.youtube.com/watch?v=cYOB941gyXI      10  \n",
       "28        https://www.youtube.com/watch?v=JtnPpxe8K7c      10  \n",
       "29        https://www.youtube.com/watch?v=gIOea2pgfIo       2  \n",
       "30        https://www.youtube.com/watch?v=OX-h7MtkeOI       5  \n",
       "31        https://www.youtube.com/watch?v=hO4ddkq2Z5U      10  \n",
       "32        https://www.youtube.com/watch?v=ZRSjmoWgOnA      10  "
      ]
     },
     "execution_count": 85,
     "metadata": {},
     "output_type": "execute_result"
    }
   ],
   "source": [
    "#Printing the data\n",
    "video"
   ]
  },
  {
   "cell_type": "code",
   "execution_count": 86,
   "metadata": {},
   "outputs": [
    {
     "data": {
      "text/html": [
       "<div>\n",
       "<style scoped>\n",
       "    .dataframe tbody tr th:only-of-type {\n",
       "        vertical-align: middle;\n",
       "    }\n",
       "\n",
       "    .dataframe tbody tr th {\n",
       "        vertical-align: top;\n",
       "    }\n",
       "\n",
       "    .dataframe thead th {\n",
       "        text-align: right;\n",
       "    }\n",
       "</style>\n",
       "<table border=\"1\" class=\"dataframe\">\n",
       "  <thead>\n",
       "    <tr style=\"text-align: right;\">\n",
       "      <th></th>\n",
       "      <th>Video Name</th>\n",
       "      <th>Video Topic</th>\n",
       "      <th>Youtube Link</th>\n",
       "      <th>Rating</th>\n",
       "    </tr>\n",
       "  </thead>\n",
       "  <tbody>\n",
       "    <tr>\n",
       "      <th>0</th>\n",
       "      <td>Python</td>\n",
       "      <td>Python introduction</td>\n",
       "      <td>https://www.youtube.com/watch?v=CtbckFw0pJs&amp;l...</td>\n",
       "      <td>4</td>\n",
       "    </tr>\n",
       "    <tr>\n",
       "      <th>1</th>\n",
       "      <td>Python</td>\n",
       "      <td>numpy full tutorial in Python</td>\n",
       "      <td>https://www.youtube.com/watch?v=Rbh1rieb3zc</td>\n",
       "      <td>7</td>\n",
       "    </tr>\n",
       "    <tr>\n",
       "      <th>2</th>\n",
       "      <td>Python</td>\n",
       "      <td>pandas full tutorial in Python</td>\n",
       "      <td>https://www.youtube.com/watch?v=RhEjmHeDNoA</td>\n",
       "      <td>10</td>\n",
       "    </tr>\n",
       "    <tr>\n",
       "      <th>3</th>\n",
       "      <td>API</td>\n",
       "      <td>what is API</td>\n",
       "      <td>https://www.youtube.com/watch?v=E0Qqpn8ymko</td>\n",
       "      <td>9</td>\n",
       "    </tr>\n",
       "    <tr>\n",
       "      <th>4</th>\n",
       "      <td>Python</td>\n",
       "      <td>OOPS Tutorial in Python</td>\n",
       "      <td>https://www.youtube.com/watch?v=ZDa-Z5JzLYM</td>\n",
       "      <td>5</td>\n",
       "    </tr>\n",
       "  </tbody>\n",
       "</table>\n",
       "</div>"
      ],
      "text/plain": [
       "  Video Name                     Video Topic  \\\n",
       "0     Python             Python introduction   \n",
       "1     Python   numpy full tutorial in Python   \n",
       "2     Python  pandas full tutorial in Python   \n",
       "3        API                     what is API   \n",
       "4     Python         OOPS Tutorial in Python   \n",
       "\n",
       "                                        Youtube Link  Rating  \n",
       "0   https://www.youtube.com/watch?v=CtbckFw0pJs&l...       4  \n",
       "1        https://www.youtube.com/watch?v=Rbh1rieb3zc       7  \n",
       "2        https://www.youtube.com/watch?v=RhEjmHeDNoA      10  \n",
       "3        https://www.youtube.com/watch?v=E0Qqpn8ymko       9  \n",
       "4        https://www.youtube.com/watch?v=ZDa-Z5JzLYM       5  "
      ]
     },
     "execution_count": 86,
     "metadata": {},
     "output_type": "execute_result"
    }
   ],
   "source": [
    "#Printing few rows \n",
    "video.head()"
   ]
  },
  {
   "cell_type": "code",
   "execution_count": 87,
   "metadata": {},
   "outputs": [],
   "source": [
    "video.rename(columns={'Video Name':'Genre'},inplace=True)"
   ]
  },
  {
   "cell_type": "code",
   "execution_count": 88,
   "metadata": {},
   "outputs": [],
   "source": [
    "#Define a TF-IDF Vectorizer Object. Remove all english stop words such as 'the', 'a'\n",
    "tf = TfidfVectorizer(analyzer='word',ngram_range=(1, 2),min_df=0, stop_words='english')\n",
    "#Construct the required TF-IDF matrix by fitting and transforming the data\n",
    "tfidf_matrix = tf.fit_transform(video['Genre'])"
   ]
  },
  {
   "cell_type": "code",
   "execution_count": 92,
   "metadata": {},
   "outputs": [
    {
     "data": {
      "text/plain": [
       "<33x10 sparse matrix of type '<class 'numpy.float64'>'\n",
       "\twith 79 stored elements in Compressed Sparse Row format>"
      ]
     },
     "execution_count": 92,
     "metadata": {},
     "output_type": "execute_result"
    }
   ],
   "source": [
    "tfidf_matrix"
   ]
  },
  {
   "cell_type": "code",
   "execution_count": 93,
   "metadata": {},
   "outputs": [
    {
     "data": {
      "text/plain": [
       "(33, 10)"
      ]
     },
     "execution_count": 93,
     "metadata": {},
     "output_type": "execute_result"
    }
   ],
   "source": [
    "tfidf_matrix.shape"
   ]
  },
  {
   "cell_type": "code",
   "execution_count": 60,
   "metadata": {},
   "outputs": [],
   "source": [
    "# Compute the cosine similarity matrix\n",
    "cosine_sim = linear_kernel(tfidf_matrix, tfidf_matrix)"
   ]
  },
  {
   "cell_type": "code",
   "execution_count": 63,
   "metadata": {},
   "outputs": [
    {
     "data": {
      "text/plain": [
       "array([1., 1., 1., 0., 1., 1., 1., 1., 1., 1., 0., 0., 0., 0., 0., 0., 0.,\n",
       "       0., 0., 0., 0., 0., 0., 0., 0., 0., 0., 0., 0., 0., 0., 0., 0.])"
      ]
     },
     "execution_count": 63,
     "metadata": {},
     "output_type": "execute_result"
    }
   ],
   "source": [
    "cosine_sim[1]"
   ]
  },
  {
   "cell_type": "code",
   "execution_count": 64,
   "metadata": {},
   "outputs": [],
   "source": [
    "#Construct a reverse map of indices and Video topics\n",
    "video = video.reset_index()\n",
    "titles = video['Video Topic']\n",
    "indices = pd.Series(video.index, index=video['Video Topic'])"
   ]
  },
  {
   "cell_type": "code",
   "execution_count": 112,
   "metadata": {},
   "outputs": [
    {
     "data": {
      "text/plain": [
       "Video Topic\n",
       "Python introduction                                      0\n",
       "numpy full tutorial in Python                            1\n",
       "pandas full tutorial in Python                           2\n",
       "what is API                                              3\n",
       "OOPS Tutorial in Python                                  4\n",
       "String Slicing and other function in Python              5\n",
       "List functions tutorial in Python                        6\n",
       "Tuple in Python                                          7\n",
       "Sets in python                                           8\n",
       "If Else & Elif in python                                 9\n",
       "what is machine learning                                10\n",
       "linear regression single variable ML                    11\n",
       "linear regression multiple variable ML                  12\n",
       "Logistic Regression ML                                  13\n",
       "Support Vector Machine ML                               14\n",
       "K Fold cross validation in ML                           15\n",
       "K means clustering ML                                   16\n",
       "Naïve Bayes part 1 ML                                   17\n",
       "Naïve Bayes part 2 ML                                   18\n",
       "Training and testing in  ML                             19\n",
       "Simple Explanation of Convolutional nural Network ML    20\n",
       "What are features and labels in ML                      21\n",
       "How does linear regression work ML                      22\n",
       "Supervised learning classification ML                   23\n",
       "K Nearest neighbor Classification in python ML          24\n",
       "Overfitting And UnderFitting in models Explained ML     25\n",
       "kal ho naa ho                                           26\n",
       "Hawayein                                                27\n",
       "Dil diyan Gallan                                        28\n",
       "Tera sang yarra                                         29\n",
       "O saathi                                                30\n",
       "Sunjara                                                 31\n",
       "Rabba Rabba                                             32\n",
       "dtype: int64"
      ]
     },
     "execution_count": 112,
     "metadata": {},
     "output_type": "execute_result"
    }
   ],
   "source": [
    "indices"
   ]
  },
  {
   "cell_type": "code",
   "execution_count": 65,
   "metadata": {},
   "outputs": [],
   "source": [
    "# Function that takes in Video topic as input and outputs most similar videos\n",
    "def get_recommendations(title):\n",
    "    # Get the index of the Video that matches the title\n",
    "    idx = indices[title]\n",
    "    # Get the pairwsie similarity scores of all Video with that Video\n",
    "    sim_scores = list(enumerate(cosine_sim[idx]))\n",
    "    # Sort the Videos based on the similarity scores\n",
    "    sim_scores = sorted(sim_scores, key=lambda x: x[1], reverse=True)\n",
    "    # Get the scores of the 20 most similar Videos\n",
    "    sim_scores = sim_scores[1:20]\n",
    "    # Get the Video indices\n",
    "    video_indices = [i[0] for i in sim_scores]\n",
    "    # Return the top 20 most similar movies\n",
    "    return titles.iloc[video_indices]\n"
   ]
  },
  {
   "cell_type": "markdown",
   "metadata": {},
   "source": [
    "<h2> Now Get the recommended videos on the basis of video title<h2>"
   ]
  },
  {
   "cell_type": "code",
   "execution_count": 111,
   "metadata": {},
   "outputs": [
    {
     "data": {
      "text/plain": [
       "1                  numpy full tutorial in Python\n",
       "2                 pandas full tutorial in Python\n",
       "4                        OOPS Tutorial in Python\n",
       "5    String Slicing and other function in Python\n",
       "6              List functions tutorial in Python\n",
       "7                                Tuple in Python\n",
       "8                                 Sets in python\n",
       "Name: Video Topic, dtype: object"
      ]
     },
     "execution_count": 111,
     "metadata": {},
     "output_type": "execute_result"
    }
   ],
   "source": [
    "get_recommendations('Tuple in Python').head(7)"
   ]
  },
  {
   "cell_type": "code",
   "execution_count": 67,
   "metadata": {},
   "outputs": [
    {
     "data": {
      "text/plain": [
       "32         Rabba Rabba\n",
       "26       kal ho naa ho\n",
       "27            Hawayein\n",
       "28    Dil diyan Gallan\n",
       "29     Tera sang yarra\n",
       "Name: Video Topic, dtype: object"
      ]
     },
     "execution_count": 67,
     "metadata": {},
     "output_type": "execute_result"
    }
   ],
   "source": [
    "get_recommendations('Sunjara').head(5)"
   ]
  },
  {
   "cell_type": "code",
   "execution_count": 113,
   "metadata": {},
   "outputs": [
    {
     "data": {
      "text/plain": [
       "11                 linear regression single variable ML\n",
       "12               linear regression multiple variable ML\n",
       "13                               Logistic Regression ML\n",
       "14                            Support Vector Machine ML\n",
       "15                        K Fold cross validation in ML\n",
       "16                                K means clustering ML\n",
       "17                                Naïve Bayes part 1 ML\n",
       "18                                Naïve Bayes part 2 ML\n",
       "19                          Training and testing in  ML\n",
       "20    Simple Explanation of Convolutional nural Netw...\n",
       "21                   What are features and labels in ML\n",
       "22                   How does linear regression work ML\n",
       "Name: Video Topic, dtype: object"
      ]
     },
     "execution_count": 113,
     "metadata": {},
     "output_type": "execute_result"
    }
   ],
   "source": [
    "get_recommendations('Logistic Regression ML').head(12)"
   ]
  },
  {
   "cell_type": "code",
   "execution_count": null,
   "metadata": {},
   "outputs": [],
   "source": []
  }
 ],
 "metadata": {
  "kernelspec": {
   "display_name": "Python 3",
   "language": "python",
   "name": "python3"
  },
  "language_info": {
   "codemirror_mode": {
    "name": "ipython",
    "version": 3
   },
   "file_extension": ".py",
   "mimetype": "text/x-python",
   "name": "python",
   "nbconvert_exporter": "python",
   "pygments_lexer": "ipython3",
   "version": "3.8.5"
  }
 },
 "nbformat": 4,
 "nbformat_minor": 4
}
